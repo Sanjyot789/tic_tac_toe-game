{
 "cells": [
  {
   "cell_type": "code",
   "execution_count": null,
   "metadata": {},
   "outputs": [],
   "source": [
    "from IPython.display import clear_output\n",
    "\n",
    "board = [' '] * 10\n",
    "state = True\n",
    "announce = ''"
   ]
  },
  {
   "cell_type": "code",
   "execution_count": null,
   "metadata": {},
   "outputs": [],
   "source": [
    "def empty_board():\n",
    "    global board, state\n",
    "    board = [' '] * 10\n",
    "    state = True"
   ]
  },
  {
   "cell_type": "code",
   "execution_count": null,
   "metadata": {},
   "outputs": [],
   "source": [
    "def display():\n",
    "    clear_output()\n",
    "    \n",
    "    print(\" \"+board[7]+\" |\"+\" \"+board[8]+\" | \"+\" \"+board[9]+\" \")\n",
    "    print(\"----------\")\n",
    "    print(\" \"+board[4]+\" |\"+\" \"+board[5]+\" | \"+\" \"+board[6]+\" \")\n",
    "    print(\"----------\")\n",
    "    print(\" \"+board[1]+\" |\"+\" \"+board[2]+\" | \"+\" \"+board[3]+\" \")"
   ]
  },
  {
   "cell_type": "code",
   "execution_count": null,
   "metadata": {},
   "outputs": [],
   "source": [
    "def check_win(board,player):\n",
    "    if  (board[1] == board[2] == board[3] == player) or \\\n",
    "        (board[4] == board[5] == board[6] == player) or \\\n",
    "        (board[7] == board[8] == board[9] == player) or \\\n",
    "        (board[1] == board[4] == board[7] == player) or \\\n",
    "        (board[2] == board[5] == board[8] == player) or \\\n",
    "        (board[3] == board[6] == board[9] == player) or \\\n",
    "        (board[1] == board[5] == board[9] == player) or \\\n",
    "        (board[3] == board[5] == board[7] == player):\n",
    "        return True\n",
    "    else:\n",
    "        return False"
   ]
  },
  {
   "cell_type": "code",
   "execution_count": null,
   "metadata": {},
   "outputs": [],
   "source": [
    "def board_check_full(board):\n",
    "    if \" \" in board[1:]:\n",
    "        return False\n",
    "    else:\n",
    "        return True"
   ]
  },
  {
   "cell_type": "code",
   "execution_count": null,
   "metadata": {},
   "outputs": [],
   "source": [
    "def player_ask(mark):\n",
    "    global board\n",
    "    \n",
    "    req = \"Choose where to place your \" + mark\n",
    "    while True:\n",
    "        try:\n",
    "            choice = int(input(req))\n",
    "        except ValueError:\n",
    "            print(\"Sorry,please input a number between 1-9.\")\n",
    "            continue\n",
    "        \n",
    "        if board[choice] == \" \":\n",
    "            board[choice] = mark\n",
    "            break\n",
    "            \n",
    "        else:\n",
    "            print(\"That space isn't empty!\")\n",
    "            continue"
   ]
  },
  {
   "cell_type": "code",
   "execution_count": null,
   "metadata": {},
   "outputs": [],
   "source": [
    "def choice_player(mark):\n",
    "    global board,state,announce\n",
    "    \n",
    "    announce = ''\n",
    "    \n",
    "    mark = str(mark)\n",
    "    \n",
    "    player_ask(mark)\n",
    "    \n",
    "    if check_win(board,mark):\n",
    "        clear_output()\n",
    "        display()\n",
    "        announce = mark + \" wins!!!!Congo!!!\"\n",
    "        state = False\n",
    "    \n",
    "    clear_output()\n",
    "    display()\n",
    "    \n",
    "    \n",
    "    if board_check_full(board):\n",
    "        announce = \"Tie!\"\n",
    "        state = False\n",
    "        \n",
    "    return state,announce"
   ]
  },
  {
   "cell_type": "code",
   "execution_count": null,
   "metadata": {},
   "outputs": [],
   "source": [
    "def game_play():\n",
    "    empty_board()\n",
    "    global announce\n",
    "    \n",
    "    x = 'X'\n",
    "    o = 'O'\n",
    "    while True:\n",
    "        clear_output()\n",
    "        display()\n",
    "        \n",
    "        state,announce = choice_player(x)\n",
    "        print(announce)\n",
    "        if state == False:\n",
    "            break\n",
    "            \n",
    "        state,announce = choice_player(o)\n",
    "        print(announce)\n",
    "        if state == False:\n",
    "            break\n",
    "        \n",
    "    rematch = input(\"Would you like to play again?(y/n)\")\n",
    "    if rematch == 'y':\n",
    "        game_play()\n",
    "    else:\n",
    "        print(\"Thank for playing!\")\n",
    "        "
   ]
  },
  {
   "cell_type": "code",
   "execution_count": null,
   "metadata": {
    "scrolled": true
   },
   "outputs": [],
   "source": [
    "game_play()"
   ]
  },
  {
   "cell_type": "code",
   "execution_count": null,
   "metadata": {},
   "outputs": [],
   "source": []
  }
 ],
 "metadata": {
  "kernelspec": {
   "display_name": "Python 3",
   "language": "python",
   "name": "python3"
  },
  "language_info": {
   "codemirror_mode": {
    "name": "ipython",
    "version": 3
   },
   "file_extension": ".py",
   "mimetype": "text/x-python",
   "name": "python",
   "nbconvert_exporter": "python",
   "pygments_lexer": "ipython3",
   "version": "3.7.3"
  }
 },
 "nbformat": 4,
 "nbformat_minor": 2
}
